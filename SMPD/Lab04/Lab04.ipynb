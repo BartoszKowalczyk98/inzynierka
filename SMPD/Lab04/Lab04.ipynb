{
 "cells": [
  {
   "cell_type": "markdown",
   "metadata": {},
   "source": [
    "# Statystyczne metody przetwarzania danych \n",
    "\n",
    "## Laboratorium 4 - algorytm normalizacja, selekcja cech.\n",
    "\n",
    "\n",
    "### Opis\n",
    "Celem laboratorium jest przeprowadzenie normalizacji i selekcji cech.\n",
    "\n",
    "### Termin\n",
    "Zadanie należy wykonać tego samego dnia. \n",
    "\n",
    "### System oceniania\n",
    "\n",
    "| Liczba punktów (procentowo) | Ocena |\n",
    "| :----                    | ---: |\n",
    "| [0-50)   | 2   |\n",
    "| [50-60)  | 3   |\n",
    "| [60-70)  | 3.5 |\n",
    "| [70-80)  | 4   |\n",
    "| [80-90)  | 4.5 |\n",
    "| [90-100] | 5   |\n",
    "\n",
    "<u>Punkty ujemne</u>\n",
    "\n",
    "* `ocena - 0.5` jeżeli zadanie wysłano po laboratorium, ale < 7 dni; \n",
    "* `ocena - 1` jeżeli zadanie wysłano w terminie pomiędzy 7 a 14 dni;\n",
    "* `ocena - 1.5` jeżeli zadanie wysłano po upływie 14 dni, ale przed ostatnim laboratorium;\n",
    "* `ocena = 2` jeżeli zadanie wysłano po ostatnim laboratorium.\n",
    "\n",
    "<u>Uwaga:</u>\n",
    "\n",
    "Niedopuszczalne jest dzielenie się notatnikiem (plik `.ipynb`) z innymi studentami ani udostępnianie go w Internecie. Każdy student powinien pobrać notatnik samodzielnie z platformy WIKAMP.\n",
    "Wysyłając zadanie potwierdasz, że wykonałeś je samodzielnie i jest to Twoja indywidualna praca a materiał przedstawiony w tej pracy jest dla Ciebie zrozumiały. Prace bardzo podobne albo grupowe będą uznawane za plagiat.\n",
    "\n",
    "\n",
    "### Zbiór danych\n",
    "\n",
    "Zbiór danych znajduje się w katalogu `dataset/*`. Jest to zmodyfikowany zbiór danych znajdujący się pod adresem: <https://archive.ics.uci.edu/ml/datasets/leaf>.\n",
    "\n",
    "### Przesyłanie zadań\n",
    "\n",
    "Wszystkie pliki należy spakować archiwizatorem **zip** i przesłać za pośrednictwem platformy WIKAMP. Poniżej oczekiwana zawartość archiwum:\n",
    "\n",
    "```\n",
    "+-- 📂 [IMIE.NAZWISKO].zip\n",
    "    +-- 📜 Lab04.ipynb\n",
    "    +-- 📂 dataset\n",
    "        +-- 📜 dataset.npz\n",
    "        +-- 📜 ReadMe.pdf\n",
    "```\n",
    "\n",
    "**Pamiętaj, wyniki powinny być czytelnie opisane oraz zaprezentowane graficznie (jeżeli jest taka możliwość). Warstwa prezentacji danych to jeden z głównych elementów wpływających na ocenę.**\n",
    "\n",
    "Przykład (na podstawie tablicy pomyłek):\n",
    "\n",
    "**Źle** (nie wiadomo co jest poniżej zaprezentowane, kolumny ani wiersze nie są podpisane, nie wiadomo które z nich prezentują predykcje, a które właściwe etykiety):\n",
    "```\n",
    "array([[2, 0, 0],\n",
    "       [0, 0, 1],\n",
    "       [1, 0, 2]])\n",
    "```\n",
    "\n",
    "### Zadanie\n",
    "\n",
    "Należy wykonać następujące czynności w celu realizacji niniejszego zadania:\n",
    "\n",
    "#### Normalizacja\n",
    "* Wczytaj dane.\n",
    "* Znormalizuj dane.\n",
    "* Przeprowadź eksperyment z zastosowaniem algorytmu kNN lub NM dla danych znormalizowanych oraz bez normalizacji.\n",
    "    * W eksperymencie wybierz minimum 5 klas oraz 10 cech.\n",
    "* Przedstaw porównanie wyników klasyfikacji na danych znormalizowanych i bez normalizacji.\n",
    "* Napisz wnioski.\n",
    "\n",
    "### wczytywanie danych"
   ]
  },
  {
   "cell_type": "code",
   "execution_count": 48,
   "metadata": {},
   "outputs": [],
   "source": [
    "import numpy as np\n",
    "import pandas\n",
    "with open('./dataset/dataset.npz', 'rb') as f:\n",
    "    data = np.load(f)\n",
    "    train, test = data['train'], data['test']\n",
    "train_dataframe = pandas.DataFrame(train)\n",
    "test_dataframe = pandas.DataFrame(test)"
   ]
  },
  {
   "cell_type": "markdown",
   "source": [
    "### normalizacja danych\n"
   ],
   "metadata": {
    "collapsed": false,
    "pycharm": {
     "name": "#%% md\n"
    }
   }
  },
  {
   "cell_type": "code",
   "execution_count": 49,
   "outputs": [],
   "source": [
    "train_pandas_normalized = train_dataframe.copy()\n",
    "test_pandas_normalized = test_dataframe.copy()\n",
    "\n",
    "# inspiracja do tego kodu:\n",
    "# https://stackoverflow.com/questions/26414913/normalize-columns-of-pandas-data-frame\n",
    "\n",
    "def normalize(df):\n",
    "    result = df.copy()\n",
    "    for feature_name in df.columns:\n",
    "        if feature_name==0:\n",
    "            continue\n",
    "        max_value = df[feature_name].max()\n",
    "        min_value = df[feature_name].min()\n",
    "        result[feature_name] = (df[feature_name] - min_value) / (max_value - min_value)\n",
    "    return result\n",
    "\n",
    "# jakies normalizowanie ze stacka\n",
    "# train_pandas_normalized=(train_dataframe-train_dataframe.mean())/train_dataframe.std()\n",
    "# test_pandas_normalized=(test_dataframe-test_dataframe.mean())/test_dataframe.std()\n",
    "\n",
    "# min max normalization\n",
    "# train_pandas_normalized=(train_dataframe-train_dataframe.min())/(train_dataframe.max()-train_dataframe.min())\n",
    "# test_pandas_normalized=(test_dataframe-test_dataframe.min())/(test_dataframe.max()-test_dataframe.min())\n",
    "\n",
    "train_pandas_normalized = normalize(train_dataframe)\n",
    "test_pandas_normalized = normalize(test_dataframe)"
   ],
   "metadata": {
    "collapsed": false,
    "pycharm": {
     "name": "#%%\n"
    }
   }
  },
  {
   "cell_type": "markdown",
   "source": [
    "### Implementacja klasyfikatora k*NN"
   ],
   "metadata": {
    "collapsed": false
   }
  },
  {
   "cell_type": "code",
   "execution_count": 50,
   "outputs": [
    {
     "name": "stdout",
     "output_type": "stream",
     "text": [
      "Bez normalizacji: \n",
      "ilość dobrze oznaczonych: 297\n",
      "ilość wszystkich:308\n",
      "procent dokładności: 96.43%\n"
     ]
    },
    {
     "data": {
      "text/plain": "<Figure size 432x288 with 2 Axes>",
      "image/png": "[encoded data removed]"
     },
     "metadata": {},
     "output_type": "display_data"
    }
   ],
   "source": [
    "def get_distance(trained,tested,cechy):\n",
    "    summary = 0\n",
    "    for cecha in cechy:\n",
    "        summary +=pow(tested[cecha]-trained[cecha],2)\n",
    "    return np.sqrt(summary)\n",
    "\n",
    "def find_k_min(k,list_to_be_searched):\n",
    "    sorted_list = sorted(list_to_be_searched)\n",
    "    return sorted_list[:k]\n",
    "\n",
    "def most_frequent(list_to_be_searched):\n",
    "    return max(set(list_to_be_searched), key = list_to_be_searched.count)\n",
    "\n",
    "def k_nearest_classify(list_of_distances, list_of_k_nearest, list_of_trained_examples):\n",
    "    temp_list = []\n",
    "    for dist in list_of_k_nearest:\n",
    "        temp_list.append(list_of_distances.index(dist))\n",
    "    k_nearest_list = []\n",
    "    for element in temp_list:\n",
    "        k_nearest_list.append(list_of_trained_examples[element][0])\n",
    "    return most_frequent(k_nearest_list)\n",
    "\n",
    "def k_classify(list_of_trained_examples, single_tested_example, k_nearest,list_of_characteristics):\n",
    "    temp_list = []\n",
    "    for element in list_of_trained_examples:\n",
    "        temp_list.append(get_distance(element,single_tested_example,list_of_characteristics))\n",
    "    list_of_k_nearest = find_k_min(k_nearest,temp_list)\n",
    "    classified = k_nearest_classify(temp_list,list_of_k_nearest,list_of_trained_examples)\n",
    "    return single_tested_example, classified\n",
    "\n",
    "\n",
    "# zmienne do obu przypadków (z normalizacją i bez)\n",
    "list_of_characters =[2,3,4,5,6,7,8,10,11,12]\n",
    "list_of_classes = [3,5,6,7,8]\n",
    "\n",
    "\n",
    "list_of_classifed = []\n",
    "selectedClassesTrained = train_dataframe.loc[train_dataframe[0].isin(list_of_classes),:]\n",
    "selectedClassesTest = test_dataframe.loc[test_dataframe[0].isin(list_of_classes),:]\n",
    "selectedClassesTrained=selectedClassesTrained.to_numpy()\n",
    "selectedClassesTest=selectedClassesTest.to_numpy()\n",
    "for to_be_tested in selectedClassesTest:\n",
    "    list_of_classifed.append(k_classify(selectedClassesTrained,to_be_tested,10,list_of_characters))\n",
    "\n",
    "counter = 0\n",
    "for el in list_of_classifed:\n",
    "    if int(el[0][0]) == int(el[1]):\n",
    "        counter+=1\n",
    "accuracy = counter/len(list_of_classifed)\n",
    "print(\"Bez normalizacji: \")\n",
    "print(\"ilość dobrze oznaczonych: \"+counter.__str__())\n",
    "print(\"ilość wszystkich:\" +len(list_of_classifed).__str__())\n",
    "print(\"procent dokładności: \"+format(accuracy*100,'.2f').__str__()+\"%\")\n",
    "\n",
    "import matplotlib as plt\n",
    "confusion_list =[]\n",
    "confusion_train =[]\n",
    "for a in list_of_classifed:\n",
    "    temp = int(a[1])\n",
    "    confusion_list.append(temp)\n",
    "    temp1 = int(a[0][0])\n",
    "    confusion_train.append(temp1)\n",
    "\n",
    "from sklearn.metrics import confusion_matrix\n",
    "conf = confusion_matrix(confusion_train,confusion_list)\n",
    "import seaborn as sn\n",
    "import pandas as pd\n",
    "import matplotlib.pyplot as plt\n",
    "\n",
    "df_cm = pd.DataFrame(conf, range(np.shape(conf)[0]), range(np.shape(conf)[1]))\n",
    "sn.set(font_scale=1) # for label size\n",
    "\n",
    "sn.heatmap(df_cm, annot=True, annot_kws={\"size\": 12}) # font size\n",
    "plt.title(\"KNM bez normalizacji\")\n",
    "plt.ylabel(\"train\")\n",
    "plt.xlabel(\"classified\")\n",
    "plt.show()"
   ],
   "metadata": {
    "collapsed": false,
    "pycharm": {
     "name": "#%%\n"
    }
   }
  },
  {
   "cell_type": "markdown",
   "source": [
    "### to samo co wyżej ale z normalizacją danych"
   ],
   "metadata": {
    "collapsed": false
   }
  },
  {
   "cell_type": "code",
   "execution_count": 51,
   "outputs": [
    {
     "name": "stdout",
     "output_type": "stream",
     "text": [
      "Z normalizacją danych: \n",
      "ilość dobrze oznaczonych: 292\n",
      "ilość wszystkich:308\n",
      "procent dokładności: 94.81%\n"
     ]
    },
    {
     "data": {
      "text/plain": "<Figure size 432x288 with 2 Axes>",
      "image/png": "[encoded data removed]"
     },
     "metadata": {},
     "output_type": "display_data"
    }
   ],
   "source": [
    "list_of_classifed = []\n",
    "selectedClassesTrainedNorm = train_pandas_normalized.loc[train_pandas_normalized[0].isin(list_of_classes),:]\n",
    "selectedClassesTestNorm = test_pandas_normalized.loc[test_pandas_normalized[0].isin(list_of_classes),:]\n",
    "selectedClassesTrainedNorm=selectedClassesTrainedNorm.to_numpy()\n",
    "selectedClassesTestNorm=selectedClassesTestNorm.to_numpy()\n",
    "for to_be_tested in selectedClassesTestNorm:\n",
    "    list_of_classifed.append(k_classify(selectedClassesTrainedNorm,to_be_tested,10,list_of_characters))\n",
    "\n",
    "counter = 0\n",
    "for el in list_of_classifed:\n",
    "    if int(el[0][0]) == int(el[1]):\n",
    "        counter+=1\n",
    "accuracy = counter/len(list_of_classifed)\n",
    "print(\"Z normalizacją danych: \")\n",
    "print(\"ilość dobrze oznaczonych: \"+counter.__str__())\n",
    "print(\"ilość wszystkich:\" +len(list_of_classifed).__str__())\n",
    "print(\"procent dokładności: \"+format(accuracy*100,'.2f').__str__()+\"%\")\n",
    "\n",
    "\n",
    "# pretty printing\n",
    "confusion_list =[]\n",
    "confusion_train =[]\n",
    "for a in list_of_classifed:\n",
    "    temp = int(a[1])\n",
    "    confusion_list.append(temp)\n",
    "    temp1 = int(a[0][0])\n",
    "    confusion_train.append(temp1)\n",
    "\n",
    "from sklearn.metrics import confusion_matrix\n",
    "conf = confusion_matrix(confusion_train,confusion_list)\n",
    "import seaborn as sn\n",
    "import pandas as pd\n",
    "import matplotlib.pyplot as plt\n",
    "\n",
    "df_cm = pd.DataFrame(conf, range(np.shape(conf)[0]), range(np.shape(conf)[1]))\n",
    "sn.set(font_scale=1) # for label size\n",
    "\n",
    "sn.heatmap(df_cm, annot=True, annot_kws={\"size\": 12}) # font size\n",
    "plt.title(\"KNM z normalizacją\")\n",
    "plt.ylabel(\"train\")\n",
    "plt.xlabel(\"classified\")\n",
    "plt.show()"
   ],
   "metadata": {
    "collapsed": false,
    "pycharm": {
     "name": "#%%\n"
    }
   }
  },
  {
   "cell_type": "markdown",
   "source": [
    "### wnioski\n",
    "Dla przypadku wybranego w eksperymencie porównawczym wyszło że normalizacja nie pomogła klasyfikatorowi\n",
    "i obniżyła skuteczność dopasowania"
   ],
   "metadata": {
    "collapsed": false
   }
  },
  {
   "cell_type": "markdown",
   "metadata": {},
   "source": [
    "#### Selekcja cech\n",
    "* Przeprowadź selekcję cech za pomocą metod poznanych na wykładzie (np. z zastosowaniem współczynnika Fishera)\n",
    "    * Wybierz 2-5 cech (ze zbioru 10 cech wybranych w poprzednim eksperymencie) i opisz dlaczego je wybrałeś.\n",
    "* Przeprowadź klasyfikację na wybranych cechach.\n",
    "* Porównaj wyniki klasyfikacji:\n",
    "    * dla 10 cech bez normalizacji,\n",
    "    * dla 10 cech z normalizacją,\n",
    "    * dla 2-5 cech bez normalizacji,\n",
    "    * dla 2-5 cech z normalizacją.\n",
    "* Opisz wyniki i napisz wnioski.\n"
   ]
  },
  {
   "cell_type": "code",
   "execution_count": 52,
   "metadata": {},
   "outputs": [
    {
     "name": "stdout",
     "output_type": "stream",
     "text": [
      "lista cech wybranych przez selekcje:  [7, 6, 3, 5, 4]\n"
     ]
    }
   ],
   "source": [
    "import math\n",
    "# przygotowanie średnich wartości dla każdej klasy\n",
    "list_of_classes = [3,5]\n",
    "x_features_chosen = 5\n",
    "\n",
    "train_dataframe =  pandas.DataFrame(train)\n",
    "sred_class = np.zeros((40,16))\n",
    "for i in range(0,40):\n",
    "    temp = train_dataframe[train_dataframe[0] == i+1]\n",
    "    for j in range(0,16):\n",
    "        sred_class[i][j] = temp.iloc[:, j].mean()\n",
    "\n",
    "# test_dataframe = pandas.DataFrame(test)\n",
    "# test_classes = test_dataframe[test_dataframe[0].isin(list_of_classes)]\n",
    "\n",
    "covar_train_class1 = np.cov(train_dataframe[train_dataframe[0] == list_of_classes[0]],rowvar=False, bias=False)\n",
    "covar_train_class2 = np.cov(train_dataframe[train_dataframe[0] == list_of_classes[1]],rowvar=False, bias=False)\n",
    "# ma mb srednie dla roznych cech\n",
    "# ca cb macierze kowariancji dla roznych cech\n",
    "def fisher_FS(ma,mb,ca,cb):\n",
    "    up = abs(ma-mb)\n",
    "    low = math.sqrt(ca) + math.sqrt(cb)\n",
    "    return up/low\n",
    "\n",
    "def find_best_feature():\n",
    "    fisherscores=[]\n",
    "    for i in list_of_characters:\n",
    "        fisherscores.append(fisher_FS(sred_class[list_of_classes[0],i],sred_class[list_of_classes[1],i],\n",
    "                                      covar_train_class1[i,i],covar_train_class2[i,i]))\n",
    "    result = []\n",
    "    for a in range(x_features_chosen):\n",
    "        result.append(1+fisherscores.index(max(fisherscores)))\n",
    "        fisherscores[fisherscores.index(max(fisherscores))] = 0\n",
    "    return result\n",
    "\n",
    "# tutaj wybor cech przez fishera\n",
    "list_of_features =find_best_feature()\n",
    "print(\"lista cech wybranych przez selekcje: \",list_of_features)"
   ]
  },
  {
   "cell_type": "markdown",
   "source": [
    "### czemu wybrałem te cechy?\n",
    "cechy te podczas wyznaczania Fisher score osiągnęły {{ x_features_chosen }} najwyższych wyników dlatego zostały wybrane do dalszych klasyfikacji"
   ],
   "metadata": {
    "collapsed": false,
    "pycharm": {
     "name": "#%% md\n"
    }
   }
  },
  {
   "cell_type": "markdown",
   "source": [
    "### 10 cech bez normalizacji"
   ],
   "metadata": {
    "collapsed": false
   }
  },
  {
   "cell_type": "code",
   "execution_count": 53,
   "outputs": [
    {
     "name": "stdout",
     "output_type": "stream",
     "text": [
      "Bez normalizacji danych z 10 cech: \n",
      "ilość dobrze oznaczonych: 110\n",
      "ilość wszystkich:110\n",
      "procent dokładności: 100.00%\n"
     ]
    },
    {
     "data": {
      "text/plain": "<Figure size 432x288 with 2 Axes>",
      "image/png": "[encoded data removed]"
     },
     "metadata": {},
     "output_type": "display_data"
    }
   ],
   "source": [
    "list_of_classifed = []\n",
    "selectedClassesTrained = train_dataframe.loc[train_dataframe[0].isin(list_of_classes),:]\n",
    "selectedClassesTest = test_dataframe.loc[test_dataframe[0].isin(list_of_classes),:]\n",
    "selectedClassesTrained=selectedClassesTrained.to_numpy()\n",
    "selectedClassesTest=selectedClassesTest.to_numpy()\n",
    "for to_be_tested in selectedClassesTest:\n",
    "    list_of_classifed.append(k_classify(selectedClassesTrained,to_be_tested,10,list_of_characters))\n",
    "\n",
    "counter = 0\n",
    "for el in list_of_classifed:\n",
    "    if int(el[0][0]) == int(el[1]):\n",
    "        counter+=1\n",
    "accuracy = counter/len(list_of_classifed)\n",
    "print(\"Bez normalizacji danych z 10 cech: \")\n",
    "print(\"ilość dobrze oznaczonych: \"+counter.__str__())\n",
    "print(\"ilość wszystkich:\" +len(list_of_classifed).__str__())\n",
    "print(\"procent dokładności: \"+format(accuracy*100,'.2f').__str__()+\"%\")\n",
    "\n",
    "\n",
    "# pretty printing\n",
    "confusion_list =[]\n",
    "confusion_train =[]\n",
    "for a in list_of_classifed:\n",
    "    temp = int(a[1])\n",
    "    confusion_list.append(temp)\n",
    "    temp1 = int(a[0][0])\n",
    "    confusion_train.append(temp1)\n",
    "\n",
    "from sklearn.metrics import confusion_matrix\n",
    "conf = confusion_matrix(confusion_train,confusion_list)\n",
    "import seaborn as sn\n",
    "import pandas as pd\n",
    "import matplotlib.pyplot as plt\n",
    "\n",
    "df_cm = pd.DataFrame(conf, range(np.shape(conf)[0]), range(np.shape(conf)[1]))\n",
    "sn.set(font_scale=1) # for label size\n",
    "\n",
    "sn.heatmap(df_cm, annot=True, annot_kws={\"size\": 12}) # font size\n",
    "plt.title(\"KNM bez normalizacji z 10 cech\")\n",
    "plt.ylabel(\"train\")\n",
    "plt.xlabel(\"classified\")\n",
    "plt.show()"
   ],
   "metadata": {
    "collapsed": false,
    "pycharm": {
     "name": "#%%\n"
    }
   }
  },
  {
   "cell_type": "markdown",
   "source": [
    "### 10 cech z normalizacją"
   ],
   "metadata": {
    "collapsed": false
   }
  },
  {
   "cell_type": "code",
   "execution_count": 54,
   "outputs": [
    {
     "name": "stdout",
     "output_type": "stream",
     "text": [
      "Z normalizacją danych z 10 cech: \n",
      "ilość dobrze oznaczonych: 110\n",
      "ilość wszystkich:110\n",
      "procent dokładności: 100.00%\n"
     ]
    },
    {
     "data": {
      "text/plain": "<Figure size 432x288 with 2 Axes>",
      "image/png": "[encoded data removed]"
     },
     "metadata": {},
     "output_type": "display_data"
    }
   ],
   "source": [
    "list_of_classifed = []\n",
    "selectedClassesTrainedNorm = train_pandas_normalized.loc[train_pandas_normalized[0].isin(list_of_classes),:]\n",
    "selectedClassesTestNorm = test_pandas_normalized.loc[test_pandas_normalized[0].isin(list_of_classes),:]\n",
    "selectedClassesTrainedNorm=selectedClassesTrainedNorm.to_numpy()\n",
    "selectedClassesTestNorm=selectedClassesTestNorm.to_numpy()\n",
    "for to_be_tested in selectedClassesTestNorm:\n",
    "    list_of_classifed.append(k_classify(selectedClassesTrainedNorm,to_be_tested,10,list_of_characters))\n",
    "\n",
    "counter = 0\n",
    "for el in list_of_classifed:\n",
    "    if int(el[0][0]) == int(el[1]):\n",
    "        counter+=1\n",
    "accuracy = counter/len(list_of_classifed)\n",
    "print(\"Z normalizacją danych z 10 cech: \")\n",
    "print(\"ilość dobrze oznaczonych: \"+counter.__str__())\n",
    "print(\"ilość wszystkich:\" +len(list_of_classifed).__str__())\n",
    "print(\"procent dokładności: \"+format(accuracy*100,'.2f').__str__()+\"%\")\n",
    "\n",
    "\n",
    "# pretty printing\n",
    "confusion_list =[]\n",
    "confusion_train =[]\n",
    "for a in list_of_classifed:\n",
    "    temp = int(a[1])\n",
    "    confusion_list.append(temp)\n",
    "    temp1 = int(a[0][0])\n",
    "    confusion_train.append(temp1)\n",
    "\n",
    "from sklearn.metrics import confusion_matrix\n",
    "conf = confusion_matrix(confusion_train,confusion_list)\n",
    "import seaborn as sn\n",
    "import pandas as pd\n",
    "import matplotlib.pyplot as plt\n",
    "\n",
    "df_cm = pd.DataFrame(conf, range(np.shape(conf)[0]), range(np.shape(conf)[1]))\n",
    "sn.set(font_scale=1) # for label size\n",
    "\n",
    "sn.heatmap(df_cm, annot=True, annot_kws={\"size\": 12}) # font size\n",
    "plt.title(\"KNM z normalizacja z 10 cech\")\n",
    "plt.ylabel(\"train\")\n",
    "plt.xlabel(\"classified\")\n",
    "plt.show()"
   ],
   "metadata": {
    "collapsed": false,
    "pycharm": {
     "name": "#%%\n"
    }
   }
  },
  {
   "cell_type": "markdown",
   "source": [
    "### wybranych 5 cech bez normaliacji"
   ],
   "metadata": {
    "collapsed": false
   }
  },
  {
   "cell_type": "code",
   "execution_count": 55,
   "outputs": [
    {
     "name": "stdout",
     "output_type": "stream",
     "text": [
      "Z normalizacją danych: \n",
      "ilość dobrze oznaczonych: 110\n",
      "ilość wszystkich:110\n",
      "procent dokładności: 100.00%\n"
     ]
    },
    {
     "data": {
      "text/plain": "<Figure size 432x288 with 2 Axes>",
      "image/png": "[encoded data removed]"
     },
     "metadata": {},
     "output_type": "display_data"
    }
   ],
   "source": [
    "list_of_classifed = []\n",
    "selectedClassesTrainedNorm = train_pandas_normalized.loc[train_pandas_normalized[0].isin(list_of_classes),:]\n",
    "selectedClassesTestNorm = test_pandas_normalized.loc[test_pandas_normalized[0].isin(list_of_classes),:]\n",
    "selectedClassesTrainedNorm=selectedClassesTrainedNorm.to_numpy()\n",
    "selectedClassesTestNorm=selectedClassesTestNorm.to_numpy()\n",
    "for to_be_tested in selectedClassesTestNorm:\n",
    "    list_of_classifed.append(k_classify(selectedClassesTrainedNorm,to_be_tested,10,list_of_features))\n",
    "\n",
    "counter = 0\n",
    "for el in list_of_classifed:\n",
    "    if int(el[0][0]) == int(el[1]):\n",
    "        counter+=1\n",
    "accuracy = counter/len(list_of_classifed)\n",
    "print(\"Z normalizacją danych: \")\n",
    "print(\"ilość dobrze oznaczonych: \"+counter.__str__())\n",
    "print(\"ilość wszystkich:\" +len(list_of_classifed).__str__())\n",
    "print(\"procent dokładności: \"+format(accuracy*100,'.2f').__str__()+\"%\")\n",
    "\n",
    "\n",
    "# pretty printing\n",
    "confusion_list =[]\n",
    "confusion_train =[]\n",
    "for a in list_of_classifed:\n",
    "    temp = int(a[1])\n",
    "    confusion_list.append(temp)\n",
    "    temp1 = int(a[0][0])\n",
    "    confusion_train.append(temp1)\n",
    "\n",
    "from sklearn.metrics import confusion_matrix\n",
    "conf = confusion_matrix(confusion_train,confusion_list)\n",
    "import seaborn as sn\n",
    "import pandas as pd\n",
    "import matplotlib.pyplot as plt\n",
    "\n",
    "df_cm = pd.DataFrame(conf, range(np.shape(conf)[0]), range(np.shape(conf)[1]))\n",
    "sn.set(font_scale=1) # for label size\n",
    "\n",
    "sn.heatmap(df_cm, annot=True, annot_kws={\"size\": 12}) # font size\n",
    "plt.title(\"KNM bez normalizacji z wybranych cech\")\n",
    "plt.ylabel(\"train\")\n",
    "plt.xlabel(\"classified\")\n",
    "plt.show()"
   ],
   "metadata": {
    "collapsed": false,
    "pycharm": {
     "name": "#%%\n"
    }
   }
  },
  {
   "cell_type": "markdown",
   "source": [
    "### wybranych 5 cech z normalizacją"
   ],
   "metadata": {
    "collapsed": false
   }
  },
  {
   "cell_type": "code",
   "execution_count": 56,
   "outputs": [
    {
     "name": "stdout",
     "output_type": "stream",
     "text": [
      "Bez normalizacji danych z wybranych cech: \n",
      "ilość dobrze oznaczonych: 110\n",
      "ilość wszystkich:110\n",
      "procent dokładności: 100.00%\n"
     ]
    },
    {
     "data": {
      "text/plain": "<Figure size 432x288 with 2 Axes>",
      "image/png": "[encoded data removed]"
     },
     "metadata": {},
     "output_type": "display_data"
    }
   ],
   "source": [
    "list_of_classifed = []\n",
    "selectedClassesTrained = train_dataframe.loc[train_dataframe[0].isin(list_of_classes),:]\n",
    "selectedClassesTest = test_dataframe.loc[test_dataframe[0].isin(list_of_classes),:]\n",
    "selectedClassesTrained=selectedClassesTrained.to_numpy()\n",
    "selectedClassesTest=selectedClassesTest.to_numpy()\n",
    "for to_be_tested in selectedClassesTest:\n",
    "    list_of_classifed.append(k_classify(selectedClassesTrained,to_be_tested,10,list_of_features))\n",
    "\n",
    "counter = 0\n",
    "for el in list_of_classifed:\n",
    "    if int(el[0][0]) == int(el[1]):\n",
    "        counter+=1\n",
    "accuracy = counter/len(list_of_classifed)\n",
    "print(\"Bez normalizacji danych z wybranych cech: \")\n",
    "print(\"ilość dobrze oznaczonych: \"+counter.__str__())\n",
    "print(\"ilość wszystkich:\" +len(list_of_classifed).__str__())\n",
    "print(\"procent dokładności: \"+format(accuracy*100,'.2f').__str__()+\"%\")\n",
    "\n",
    "\n",
    "# pretty printing\n",
    "confusion_list =[]\n",
    "confusion_train =[]\n",
    "for a in list_of_classifed:\n",
    "    temp = int(a[1])\n",
    "    confusion_list.append(temp)\n",
    "    temp1 = int(a[0][0])\n",
    "    confusion_train.append(temp1)\n",
    "\n",
    "from sklearn.metrics import confusion_matrix\n",
    "conf = confusion_matrix(confusion_train,confusion_list)\n",
    "import seaborn as sn\n",
    "import pandas as pd\n",
    "import matplotlib.pyplot as plt\n",
    "\n",
    "df_cm = pd.DataFrame(conf, range(np.shape(conf)[0]), range(np.shape(conf)[1]))\n",
    "sn.set(font_scale=1) # for label size\n",
    "\n",
    "sn.heatmap(df_cm, annot=True, annot_kws={\"size\": 12}) # font size\n",
    "plt.title(\"KNM z normalizacją z wybranych cech\")\n",
    "plt.ylabel(\"train\")\n",
    "plt.xlabel(\"classified\")\n",
    "plt.show()"
   ],
   "metadata": {
    "collapsed": false,
    "pycharm": {
     "name": "#%%\n"
    }
   }
  },
  {
   "cell_type": "code",
   "execution_count": 57,
   "outputs": [
    {
     "name": "stdout",
     "output_type": "stream",
     "text": [
      "Bez normalizacji danych z wybranych najgorszych cech: \n",
      "ilość dobrze oznaczonych: 82\n",
      "ilość wszystkich:110\n",
      "procent dokładności: 74.55%\n"
     ]
    },
    {
     "data": {
      "text/plain": "<Figure size 432x288 with 2 Axes>",
      "image/png": "[encoded data removed]"
     },
     "metadata": {},
     "output_type": "display_data"
    }
   ],
   "source": [
    "# 10, 11, 12 3 najgorsze cechy\n",
    "list_of_classifed = []\n",
    "selectedClassesTrained = train_dataframe.loc[train_dataframe[0].isin(list_of_classes),:]\n",
    "selectedClassesTest = test_dataframe.loc[test_dataframe[0].isin(list_of_classes),:]\n",
    "selectedClassesTrained=selectedClassesTrained.to_numpy()\n",
    "selectedClassesTest=selectedClassesTest.to_numpy()\n",
    "for to_be_tested in selectedClassesTest:\n",
    "    list_of_classifed.append(k_classify(selectedClassesTrained,to_be_tested,10,[10,11,12]))\n",
    "\n",
    "counter = 0\n",
    "for el in list_of_classifed:\n",
    "    if int(el[0][0]) == int(el[1]):\n",
    "        counter+=1\n",
    "accuracy = counter/len(list_of_classifed)\n",
    "print(\"Bez normalizacji danych z wybranych najgorszych cech: \")\n",
    "print(\"ilość dobrze oznaczonych: \"+counter.__str__())\n",
    "print(\"ilość wszystkich:\" +len(list_of_classifed).__str__())\n",
    "print(\"procent dokładności: \"+format(accuracy*100,'.2f').__str__()+\"%\")\n",
    "\n",
    "\n",
    "# pretty printing\n",
    "confusion_list =[]\n",
    "confusion_train =[]\n",
    "for a in list_of_classifed:\n",
    "    temp = int(a[1])\n",
    "    confusion_list.append(temp)\n",
    "    temp1 = int(a[0][0])\n",
    "    confusion_train.append(temp1)\n",
    "\n",
    "from sklearn.metrics import confusion_matrix\n",
    "conf = confusion_matrix(confusion_train,confusion_list)\n",
    "import seaborn as sn\n",
    "import pandas as pd\n",
    "import matplotlib.pyplot as plt\n",
    "\n",
    "df_cm = pd.DataFrame(conf, range(np.shape(conf)[0]), range(np.shape(conf)[1]))\n",
    "sn.set(font_scale=1) # for label size\n",
    "\n",
    "sn.heatmap(df_cm, annot=True, annot_kws={\"size\": 12}) # font size\n",
    "plt.title(\"KNM z normalizacją z wybranych najgorszych cech\")\n",
    "plt.ylabel(\"train\")\n",
    "plt.xlabel(\"classified\")\n",
    "plt.show()"
   ],
   "metadata": {
    "collapsed": false,
    "pycharm": {
     "name": "#%%\n"
    }
   }
  },
  {
   "cell_type": "markdown",
   "source": [
    "### Wnioski:\n",
    "Współczynnik fishera wybiera najlepszych x cech  i faktycznie dla nich algorytm ma wręcz 100% dokładność,\n",
    " wybierając 3 najgorsze cechy w ostatnim teście widoczne jest że algorytm popełił już spore błędy podczas\n",
    " klasyfikacji próbek. Co do samej normalizacji to na testowanych przeze mnie przykładach dla 2 klas\n",
    " nie miała ona znacznego wpływu były to różnice <1% dokładności.\n"
   ],
   "metadata": {
    "collapsed": false,
    "pycharm": {
     "name": "#%% md\n"
    }
   }
  }
 ],
 "metadata": {
  "author": {
   "emails": [
    "rsusik@kis.p.lodz.pl"
   ],
   "name": "Robert Susik"
  },
  "kernelspec": {
   "display_name": "Python 3",
   "language": "python",
   "name": "python3"
  },
  "language_info": {
   "codemirror_mode": {
    "name": "ipython",
    "version": 3
   },
   "file_extension": ".py",
   "mimetype": "text/x-python",
   "name": "python",
   "nbconvert_exporter": "python",
   "pygments_lexer": "ipython3",
   "version": "3.7.4"
  },
  "toc": {
   "base_numbering": 1,
   "nav_menu": {},
   "number_sections": true,
   "sideBar": true,
   "skip_h1_title": false,
   "title_cell": "Table of Contents",
   "title_sidebar": "Contents",
   "toc_cell": false,
   "toc_position": {},
   "toc_section_display": true,
   "toc_window_display": true
  }
 },
 "nbformat": 4,
 "nbformat_minor": 4
}