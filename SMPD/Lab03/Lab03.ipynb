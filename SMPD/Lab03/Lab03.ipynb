{
 "cells": [
  {
   "cell_type": "markdown",
   "metadata": {},
   "source": [
    "# Statystyczne metody przetwarzania danych \n",
    "\n",
    "## Laboratorium 3 - algorytm Najbliższej Średniej (NM)\n",
    "\n",
    "\n",
    "### Opis\n",
    "Celem laboratorium jest implementacja klasyfikatora najbliższej średniej NM (*Nearest Mean*).\n",
    "\n",
    "### Zbiór danych\n",
    "\n",
    "Zbiór danych znajduje się w `dataset/leaf.csv`. Jest to zbiór danych pobrany z adresu: <https://archive.ics.uci.edu/ml/datasets/leaf>.\n",
    "\n",
    "### Przesyłanie zadań\n",
    "\n",
    "Wszystkie pliki należy spakować archiwizatorem **zip** i przesłać za pośrednictwem platformy WIKAMP. Poniżej oczekiwana zawartość archiwum:\n",
    "\n",
    "```\n",
    "+-- 📂 [IMIE I NAZWISKO].zip\n",
    "    +-- 📜 Lab03.ipynb\n",
    "    +-- 📂 dataset\n",
    "        +-- 📜 leaf.csv\n",
    "        +-- 📜 ReadMe.pdf\n",
    "```\n",
    "\n",
    "*UWAGA: Wysyłając zadanie potwierdasz, że wykonałeś je samodzielnie i jest to Twoja indywidualna praca i materiał przedstawiony w tej pracy jest dla Ciebie zrozumiały.*\n",
    "\n",
    "### Zadanie\n",
    "\n",
    "Należy wykonać następujące czynności w celu realizacji niniejszego zadania:\n",
    "* Wczytaj dane.\n",
    "* Zaimplementuj funkcję, która zwraca macierz kowariancji (*uwaga: biblioteka `numpy` posiada gotową implementację `cov` z którą możesz porównać wynik*).\n",
    "\n",
    "\\begin{equation*}\n",
    "C = \\frac{1}{n - 1} \\sum_{i=1}^n (X_i - \\bar X)(X_i - \\bar X)^T\n",
    "\\end{equation*}\n",
    "\n",
    "* **Zaimplementuj klasyfikator najbliższej średniej (NM) z zastosowaniem odległości Euklidesa**.\n",
    "* **Zaimplementuj klasyfikator najbliższej średniej (NM) z zastosowaniem odległości Machalanobisa**.\n",
    "\n",
    "    \\begin{equation*}\n",
    "    D_j = \\sqrt{ (x - \\mu_j)^T S_j^{-1}(x - \\mu_j) },\n",
    "    \\end{equation*}\n",
    "\n",
    "    gdzie:\n",
    "    * $D_j$ to odległość klasyfikowanej próbki do $j$-tej klasy (grupy, klastra), \n",
    "    * $\\mu_j$ to wektor ze średnimi wartościami cech w obrębie $j$-tej klasy, \n",
    "    * $S_j^{-1}$ to odwrócona macierz kowariancji $j$-tej klasy, \n",
    "    * a $x$ to klasyfikowana próbka.\n",
    "\n",
    "* Opisz wyniki klasyfikatorów i porównaj je z klasyfikatorem *k*NN (porównaj w kontekście różnych metryk - obowiązkowo tablica pomyłek).\n",
    "\n",
    "> Podpowiedź 1: Do obliczenia macierzy odwrotnej możesz użyć gotową implementację, np. funkcję `linalg.inv` z biblioteki `numpy`.\n",
    "\n",
    "> Podpowiedź 2: Do wszelkich podstawowych operacji na macierzach (mnożenie, transpozycja, dodawanie, odejmowanie, itp.) możesz zastosować gotową implementację, np. bibliotekę `numpy`.\n",
    "\n",
    "> UWAGA 1: W niniejszym zadaniu jest dowolność implementacji (nie trzeba trzymać się struktury z poprzedniego zadania), jednak algorytm NM należy zaimplementować samodzielnie bez korzystania z istniających rozwiązań (jak np. z biblioteki `scikit-learn`).\n",
    "\n",
    "> UWAGA 2: Wszystkie wykonane elementy zadania powinny posiadać stosowne komentarze i opisy.\n",
    "\n",
    "\n",
    "**Pamiętaj, wyniki powinny być czytelnie opisane oraz zaprezentowane graficznie (jeżeli jest taka możliwość). Warstwa prezentacji danych to jeden z głównych elementów wpływających na ocenę.**\n",
    "\n",
    "Przykład (na podstawie tablicy pomyłek):\n",
    "\n",
    "Źle (nie wiadomo co jest poniżej zaprezentowane, kolumny ani wiersze nie są podpisane, nie wiadomo które z nich prezentują predykcje, a które właściwe etykiety):\n",
    "```\n",
    "array([[2, 0, 0],\n",
    "       [0, 0, 1],\n",
    "       [1, 0, 2]])\n",
    "```\n",
    "\n",
    "\n",
    "<span style=\"text-decoration:underline\">Referencje</span>\n",
    "\n",
    "1. Mahalanobis, P C, _On test and measures of group divergence : theoretical formulae_, Journal and Proceedings of Asiatic Society of Bengal (New Series) Vol. 26, pp. 541-588. 1930. (URL: http://library.isical.ac.in:8080/xmlui/bitstream/handle/10263/1639/029.pdf)\n",
    "2. McLachlan, Goeffrey J. _Mahalanobis distance_, Resonance, pp. 20-26. 1999. (URL: https://www.ias.ac.in/article/fulltext/reso/004/06/0020-0026)"
   ]
  },
  {
   "cell_type": "markdown",
   "metadata": {},
   "source": [
    "### PONIŻEJ WYKONAJ ZADANIE\n",
    "### wczytywanie danych"
   ]
  },
  {
   "cell_type": "code",
   "execution_count": 120,
   "metadata": {},
   "outputs": [],
   "source": [
    "import numpy as np\n",
    "with open('./dataset/dataset.npz', 'rb') as f:\n",
    "    data = np.load(f)\n",
    "    train, test = data['train'], data['test']"
   ]
  },
  {
   "cell_type": "markdown",
   "source": [
    "### Zaimplementuj funkcję, która zwraca macierz kowariancji (uwaga: biblioteka numpy posiada gotową implementację cov z którą możesz porównać wynik)."
   ],
   "metadata": {
    "collapsed": false,
    "pycharm": {
     "name": "#%% md\n"
    }
   }
  },
  {
   "cell_type": "code",
   "execution_count": 121,
   "outputs": [
    {
     "name": "stdout",
     "output_type": "stream",
     "text": [
      "[[0. 0. 0.]\n",
      " [0. 0. 0.]\n",
      " [0. 0. 0.]]\n",
      "[[0. 0. 0.]\n",
      " [0. 0. 0.]\n",
      " [0. 0. 0.]]\n"
     ]
    }
   ],
   "source": [
    "# https://stackoverflow.com/questions/23761604/simple-implementation-of-numpy-cov-covariance-function?fbclid=IwAR1lVmEnBetXCofKuV0oGay1ca3qoA9KRP-v1-Csj2Dx_J1o-BhosoMZOng\n",
    "def my_covar(X):\n",
    "    X -= X.mean(axis=1)[:, None]\n",
    "    N = X.shape[1]\n",
    "    return np.dot(X, X.T.conj())/float(N-1)\n",
    "X = np.asarray([[1.0,1.0],[2.0,2.0],[3.0,3.0]])\n",
    "\n",
    "print(np.cov(X))\n",
    "print(my_covar(X))\n"
   ],
   "metadata": {
    "collapsed": false,
    "pycharm": {
     "name": "#%%\n"
    }
   }
  },
  {
   "cell_type": "markdown",
   "source": [
    "### Zaimplementuj klasyfikator najbliższej średniej (NM) z zastosowaniem odległości Euklidesa."
   ],
   "metadata": {
    "collapsed": false,
    "pycharm": {
     "name": "#%% md\n"
    }
   }
  },
  {
   "cell_type": "code",
   "execution_count": 122,
   "outputs": [
    {
     "name": "stdout",
     "output_type": "stream",
     "text": [
      "ilość dobrze oznaczonych: 150\n",
      "ilość wszystkich:154\n",
      "procent dokładności: 97.40%\n"
     ]
    }
   ],
   "source": [
    "import pandas\n",
    "import math\n",
    "# sama funckja wyliczająca odległośc\n",
    "def euclidean_NM(X,sred_klas,list_of_features ):\n",
    "    result = []\n",
    "    for a in sred_klas:\n",
    "        sum = 0\n",
    "        for j in list_of_features:\n",
    "            sum += math.pow(a[j] - X[j], 2)\n",
    "        result.append(math.sqrt(sum))\n",
    "    return result\n",
    "\n",
    "def classify(list_of_trained_examples, single_tested_example, wybrane_cechy):\n",
    "    distances = euclidean_NM(single_tested_example,list_of_trained_examples,wybrane_cechy)\n",
    "    mindist = min(distances)\n",
    "    return single_tested_example, distances.index(mindist)+1\n",
    "\n",
    "\n",
    "\n",
    "# przygotowanie średnich wartości dla każdej klasy\n",
    "list_of_features =[2,3,4,5,6,7,8,10,11]\n",
    "list_of_classes = [3,5,6]\n",
    "\n",
    "train_dataframe =  pandas.DataFrame(train)\n",
    "sred_class = np.zeros((40,15))\n",
    "for i in range(0,40):\n",
    "    temp = train_dataframe[train_dataframe[0] == i+1]\n",
    "    for j in range(0,15):\n",
    "        sred_class[i][j] = temp.iloc[:, j].mean()\n",
    "\n",
    "test_dataframe = pandas.DataFrame(test)\n",
    "test_classes = test_dataframe[test_dataframe[0].isin(list_of_classes)]\n",
    "for i in range(0,len(sred_class)):\n",
    "    if sred_class[i][0] not in list_of_classes:\n",
    "        for j in range(0,15):\n",
    "            sred_class[i][j] = float('Inf')\n",
    "\n",
    "#classification\n",
    "list_of_classifed = []\n",
    "for i in test_classes.to_numpy():\n",
    "    list_of_classifed.append(classify(sred_class,i,list_of_features))\n",
    "\n",
    "\n",
    "\n",
    "\n",
    "\n",
    "#printing\n",
    "counter = 0\n",
    "for el in list_of_classifed:\n",
    "    if int(el[0][0]) == int(el[1]):\n",
    "        counter+=1\n",
    "accuracy = counter/len(list_of_classifed)\n",
    "print(\"ilość dobrze oznaczonych: \"+counter.__str__())\n",
    "print(\"ilość wszystkich:\" +len(list_of_classifed).__str__())\n",
    "print(\"procent dokładności: \"+format(accuracy*100,'.2f').__str__()+\"%\")"
   ],
   "metadata": {
    "collapsed": false,
    "pycharm": {
     "name": "#%%\n"
    }
   }
  },
  {
   "cell_type": "markdown",
   "source": [
    "### Zaimplementuj klasyfikator najbliższej średniej (NM) z zastosowaniem odległości Machalanobisa."
   ],
   "metadata": {
    "collapsed": false
   }
  },
  {
   "cell_type": "code",
   "execution_count": 123,
   "outputs": [
    {
     "name": "stdout",
     "output_type": "stream",
     "text": [
      "ilość dobrze oznaczonych: 131\n",
      "ilość wszystkich:154\n",
      "procent dokładności: 85.06%\n"
     ]
    }
   ],
   "source": [
    "import pandas\n",
    "import math\n",
    "\n",
    "def machalanobis_NM(x,sred_klasy,list_of_features):\n",
    "    result = []\n",
    "\n",
    "    for a in sred_klasy:\n",
    "        if a[0]==float('Inf'):\n",
    "            result.append(99999)\n",
    "            continue\n",
    "        # a od listy cech i x od listy cech\n",
    "        newx =[]\n",
    "        newa =[]\n",
    "        for i in range(0,15):\n",
    "            if i in list_of_features:\n",
    "                newx.append(x[i])\n",
    "                newa.append(a[i])\n",
    "\n",
    "        newx = np.array(newx)\n",
    "        newa = np.array(newa)\n",
    "        first_part = np.transpose(np.subtract(newx,newa))\n",
    "\n",
    "        s = train_dataframe[train_dataframe[0] == a[0]]\n",
    "        s = s.loc[:, list_of_features]\n",
    "        s = s.to_numpy()\n",
    "        middle_part = my_covar(s.T)\n",
    "\n",
    "        last_part = np.subtract(newx,newa)\n",
    "        mult = np.matmul(first_part,middle_part)\n",
    "        mult = np.matmul(mult,last_part)\n",
    "        root=math.sqrt(abs(mult))\n",
    "        result.append(root)\n",
    "    return result\n",
    "\n",
    "def classify(list_of_trained_examples, single_tested_example, list_of_features):\n",
    "    distances = machalanobis_NM(single_tested_example,list_of_trained_examples,list_of_features)\n",
    "    mindist = min(distances)\n",
    "    return single_tested_example, distances.index(mindist)+1\n",
    "\n",
    "# przygotowanie średnich wartości dla każdej klasy\n",
    "list_of_features =[2,3,4,5,6,7,8,10,11]\n",
    "list_of_classes = [3,5,6]\n",
    "\n",
    "train_dataframe =  pandas.DataFrame(train)\n",
    "sred_class = np.zeros((40,15))\n",
    "for i in range(0,40):\n",
    "    temp = train_dataframe[train_dataframe[0] == i+1]\n",
    "    for j in range(0,15):\n",
    "        sred_class[i][j] = temp.iloc[:, j].mean()\n",
    "\n",
    "test_dataframe = pandas.DataFrame(test)\n",
    "test_classes = test_dataframe[test_dataframe[0].isin(list_of_classes)]\n",
    "for i in range(0,len(sred_class)):\n",
    "    if sred_class[i][0] not in list_of_classes:\n",
    "        for j in range(0,15):\n",
    "            sred_class[i][j] = float(\"Inf\")\n",
    "\n",
    "\n",
    "\n",
    "#classification\n",
    "list_of_classifed2 = []\n",
    "for i in test_classes.to_numpy():\n",
    "    list_of_classifed2.append(classify(sred_class,i,list_of_features))\n",
    "\n",
    "\n",
    "\n",
    "#printing\n",
    "counter = 0\n",
    "for el in list_of_classifed2:\n",
    "    if int(el[0][0]) == int(el[1]):\n",
    "        counter+=1\n",
    "accuracy = counter/len(list_of_classifed2)\n",
    "print(\"ilość dobrze oznaczonych: \"+counter.__str__())\n",
    "print(\"ilość wszystkich:\" +len(list_of_classifed2).__str__())\n",
    "print(\"procent dokładności: \"+format(accuracy*100,'.2f').__str__()+\"%\")\n"
   ],
   "metadata": {
    "collapsed": false,
    "pycharm": {
     "name": "#%%\n"
    }
   }
  },
  {
   "cell_type": "markdown",
   "source": [
    "### Opisz wyniki klasyfikatorów i porównaj je z klasyfikatorem kNN (porównaj w kontekście różnych metryk - obowiązkowo tablica pomyłek).\n",
    "\n",
    "Klasyfikator NM dla odległości euklidesowej zwraca podobne wyniki do kNN.\n",
    "\n",
    "Klasyfikator NM dla odległości Machalanobisa dla tych samych danych\n",
    "co odległość euklidesowa dopasował\n",
    "niektóre próbki błędnie przez co uzyskane wyniki były mniej dokładne.\n",
    "Jest też on mniej dokładny niż kNN.\n",
    "\n"
   ],
   "metadata": {
    "collapsed": false
   }
  },
  {
   "cell_type": "code",
   "execution_count": 124,
   "outputs": [
    {
     "data": {
      "text/plain": "<Figure size 432x288 with 2 Axes>",
      "image/png": "[encoded data removed]"
     },
     "metadata": {},
     "output_type": "display_data"
    },
    {
     "data": {
      "text/plain": "<Figure size 432x288 with 2 Axes>",
      "image/png": "[encoded data removed]"
     },
     "metadata": {},
     "output_type": "display_data"
    }
   ],
   "source": [
    "import matplotlib as plt\n",
    "confusion_list =[]\n",
    "confusion_train =[]\n",
    "for a in list_of_classifed:\n",
    "    temp = int(a[1])\n",
    "    confusion_list.append(temp)\n",
    "    temp1 = int(a[0][0])\n",
    "    confusion_train.append(temp1)\n",
    "\n",
    "from sklearn.metrics import confusion_matrix\n",
    "conf = confusion_matrix(confusion_train,confusion_list)\n",
    "import seaborn as sn\n",
    "import pandas as pd\n",
    "import matplotlib.pyplot as plt\n",
    "\n",
    "df_cm = pd.DataFrame(conf, range(np.shape(conf)[0]), range(np.shape(conf)[1]))\n",
    "sn.set(font_scale=1) # for label size\n",
    "\n",
    "sn.heatmap(df_cm, annot=True, annot_kws={\"size\": 12}) # font size\n",
    "plt.title(\"Euclidean NM\")\n",
    "plt.ylabel(\"train\")\n",
    "plt.xlabel(\"classified\")\n",
    "plt.show()\n",
    "\n",
    "\n",
    "\n",
    "\n",
    "\n",
    "import matplotlib as plt\n",
    "confusion_list =[]\n",
    "confusion_train =[]\n",
    "for a in list_of_classifed2:\n",
    "    temp = int(a[1])\n",
    "    confusion_list.append(temp)\n",
    "    temp1 = int(a[0][0])\n",
    "    confusion_train.append(temp1)\n",
    "\n",
    "from sklearn.metrics import confusion_matrix\n",
    "conf = confusion_matrix(confusion_train,confusion_list)\n",
    "import seaborn as sn\n",
    "import pandas as pd\n",
    "import matplotlib.pyplot as plt\n",
    "\n",
    "df_cm = pd.DataFrame(conf, range(np.shape(conf)[0]), range(np.shape(conf)[1]))\n",
    "sn.set(font_scale=1) # for label size\n",
    "\n",
    "sn.heatmap(df_cm, annot=True, annot_kws={\"size\": 12}) # font size\n",
    "plt.title(\"machalanobis\")\n",
    "plt.ylabel(\"train\")\n",
    "plt.xlabel(\"classified\")\n",
    "plt.show()"
   ],
   "metadata": {
    "collapsed": false,
    "pycharm": {
     "name": "#%%\n"
    }
   }
  }
 ],
 "metadata": {
  "author": {
   "emails": [
    "rsusik@kis.p.lodz.pl"
   ],
   "name": "Robert Susik"
  },
  "kernelspec": {
   "display_name": "Python 3",
   "language": "python",
   "name": "python3"
  },
  "language_info": {
   "codemirror_mode": {
    "name": "ipython",
    "version": 3
   },
   "file_extension": ".py",
   "mimetype": "text/x-python",
   "name": "python",
   "nbconvert_exporter": "python",
   "pygments_lexer": "ipython3",
   "version": "3.7.4"
  },
  "toc": {
   "base_numbering": 1,
   "nav_menu": {},
   "number_sections": true,
   "sideBar": true,
   "skip_h1_title": false,
   "title_cell": "Table of Contents",
   "title_sidebar": "Contents",
   "toc_cell": false,
   "toc_position": {},
   "toc_section_display": true,
   "toc_window_display": true
  }
 },
 "nbformat": 4,
 "nbformat_minor": 4
}