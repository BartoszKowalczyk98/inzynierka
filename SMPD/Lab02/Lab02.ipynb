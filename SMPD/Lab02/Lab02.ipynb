{
 "cells": [
  {
   "cell_type": "markdown",
   "metadata": {},
   "source": [
    "# Statystyczne metody przetwarzania danych \n",
    "\n",
    "## Laboratorium 2 - algorytm *k* Najbliższych Sąsiadów (*k*NN)\n",
    "\n",
    "\n",
    "### Opis\n",
    "Celem laboratorium jest implementacja klasyfikatora *k* najbliższych sąsiadów - *k*NN (*k Nearest Neighbors*) oraz zapoznanie się z innymi metrykami klasyfikacji.\n",
    "\n",
    "### Termin\n",
    "Zadanie należy wykonać tego samego dnia. \n",
    "\n",
    "### System oceniania\n",
    "\n",
    "| Liczba punktów (procentowo) | Ocena |\n",
    "| :----                    | ---: |\n",
    "| [0-50)   | 2   |\n",
    "| [50-60)  | 3   |\n",
    "| [60-70)  | 3.5 |\n",
    "| [70-80)  | 4   |\n",
    "| [80-90)  | 4.5 |\n",
    "| [90-100] | 5   |\n",
    "\n",
    "<u>Punkty ujemne</u>\n",
    "\n",
    "* `ocena - 0.5` jeżeli zadanie wysłano po laboratorium, ale < 7 dni; \n",
    "* `ocena - 1` jeżeli zadanie wysłano w terminie pomiędzy 7 a 14 dni;\n",
    "* `ocena - 1.5` jeżeli zadanie wysłano po upływie 14 dni, ale przed ostatnim laboratorium;\n",
    "* `ocena = 2` jeżeli zadanie wysłano po ostatnim laboratorium.\n",
    "\n",
    "<u>Uwaga:</u>\n",
    "\n",
    "Niedopuszczalne jest dzielenie się notatnikiem (plik `.ipynb`) z innymi studentami ani udostępnianie go w Internecie. Każdy student powinien pobrać notatnik samodzielnie z platformy WIKAMP.\n",
    "Wysyłając zadanie potwierdasz, że wykonałeś je samodzielnie i jest to Twoja indywidualna praca a materiał przedstawiony w tej pracy jest dla Ciebie zrozumiały. Prace bardzo podobne albo grupowe będą uznawane za plagiat.\n",
    "\n",
    "\n",
    "### Zbiór danych\n",
    "\n",
    "Zbiór danych znajduje się w katalogu `dataset/*`. Jest to zmodyfikowany zbiór danych znajdujący się pod adresem: <https://archive.ics.uci.edu/ml/datasets/leaf>.\n",
    "\n",
    "### Przesyłanie zadań\n",
    "\n",
    "Wszystkie pliki należy spakować archiwizatorem **zip** i przesłać za pośrednictwem platformy WIKAMP. Poniżej oczekiwana zawartość archiwum:\n",
    "\n",
    "```\n",
    "+-- 📂 [IMIE.NAZWISKO].zip\n",
    "    +-- 📜 Lab02.ipynb\n",
    "    +-- 📂 dataset\n",
    "        +-- 📜 dataset.npz\n",
    "        +-- 📜 ReadMe.pdf\n",
    "```\n",
    "\n",
    "### Dodatkowe narzędzia\n",
    "\n",
    "Dopuszczalne jest korzystanie z bibliotek: `numpy`, `pandas`, `matplotlib`.\n",
    "Implementacja klasyfikatora powinna być wykonana samodzielnie (bez dodatkowych bibliotek).\n",
    "\n",
    "\n",
    "### Zadanie\n",
    "\n",
    "Należy wykonać następujące czynności w celu realizacji niniejszego zadania:\n",
    "* Wczytaj dane.\n",
    "* **Zaimplementuj klasyfikator *k* najbliższych sąsiadów (*k*NN)** i uruchom predykcję.\n",
    "* Opisz jak zmieniają się wyniki klasyfikatora dla różnych wartości *k*, dla różnej liczby klas oraz dla różnej liczby cech.\n",
    "* Wyświetl tablicę pomyłek (*confusion matrix*). W tym przypadku możesz zastosować gotową implementację z biblioteki `scikit-learn` <https://scikit-learn.org/stable/modules/generated/sklearn.metrics.confusion_matrix.html>.\n",
    "* Odszukaj przynajmniej dwie inne (niż accuracy) metryki przytatne w klasyfikacji na stronie <https://scikit-learn.org/stable/modules/model_evaluation.html> i opisz ich wyniki. Wytłumacz czym się różnią i co można z nich odczytać.\n",
    "* Opisz różnicę wyników klasyfikacji obu algorytmów (NN i *k*NN)?\n",
    "\n",
    "\n",
    "> UWAGA: Wszystkie wykonane elementy zadania powinny posiadać stosowne komentarze i opisy."
   ]
  },
  {
   "cell_type": "markdown",
   "metadata": {},
   "source": [
    "### PONIŻEJ WYKONAJ ZADANIE\n",
    "### Wczytywanie danych tak jak w poprzednim zadaniu"
   ]
  },
  {
   "cell_type": "code",
   "execution_count": 1,
   "metadata": {},
   "outputs": [],
   "source": [
    "import numpy as np\n",
    "import pandas\n",
    "with open('./dataset/dataset.npz', 'rb') as f:\n",
    "    data = np.load(f)\n",
    "    train, test = data['train'], data['test']\n",
    "\n",
    "train_dataframe = pandas.DataFrame(train)\n",
    "test_dataframe = pandas.DataFrame(test)"
   ]
  },
  {
   "cell_type": "markdown",
   "source": [
    "### Implementacja klasyfikatora k*NN"
   ],
   "metadata": {
    "collapsed": false
   }
  },
  {
   "cell_type": "code",
   "execution_count": 2,
   "outputs": [
    {
     "name": "stdout",
     "output_type": "stream",
     "text": [
      "ilość dobrze oznaczonych: 150\n",
      "ilość wszystkich:154\n",
      "procent dokładności: 97.40%\n"
     ]
    }
   ],
   "source": [
    "def get_distance(trained,tested,cechy):\n",
    "    summary = 0\n",
    "    for cecha in cechy:\n",
    "        summary +=pow(tested[cecha]-trained[cecha],2)\n",
    "    return np.sqrt(summary)\n",
    "\n",
    "def find_k_min(k,list_to_be_searched):\n",
    "    sorted_list = sorted(list_to_be_searched)\n",
    "    return sorted_list[:k]\n",
    "\n",
    "def most_frequent(list_to_be_searched):\n",
    "    return max(set(list_to_be_searched), key = list_to_be_searched.count)\n",
    "\n",
    "def k_nearest_classify(list_of_distances, list_of_k_nearest, list_of_trained_examples):\n",
    "    temp_list = []\n",
    "    for dist in list_of_k_nearest:\n",
    "        temp_list.append(list_of_distances.index(dist))\n",
    "    k_nearest_list = []\n",
    "    for element in temp_list:\n",
    "        k_nearest_list.append(list_of_trained_examples[element][0])\n",
    "    return most_frequent(k_nearest_list)\n",
    "\n",
    "def k_classify(list_of_trained_examples, single_tested_example, k_nearest,list_of_characteristics):\n",
    "    temp_list = []\n",
    "    for element in list_of_trained_examples:\n",
    "        temp_list.append(get_distance(element,single_tested_example,list_of_characteristics))\n",
    "    list_of_k_nearest = find_k_min(k_nearest,temp_list)\n",
    "    classified = k_nearest_classify(temp_list,list_of_k_nearest,list_of_trained_examples)\n",
    "    return single_tested_example, classified\n",
    "\n",
    "\n",
    "\n",
    "list_of_characters =[2,3,4,5,6,7,8,10,11]\n",
    "list_of_classes = [3,5,6]\n",
    "list_of_classifed = []\n",
    "selectedClassesTrained = train_dataframe.loc[train_dataframe[0].isin(list_of_classes),:]\n",
    "selectedClassesTest = test_dataframe.loc[test_dataframe[0].isin(list_of_classes),:]\n",
    "selectedClassesTrained=selectedClassesTrained.to_numpy()\n",
    "selectedClassesTest=selectedClassesTest.to_numpy()\n",
    "how_many_neighbours = 10\n",
    "for to_be_tested in selectedClassesTest:\n",
    "    list_of_classifed.append(k_classify(selectedClassesTrained,to_be_tested,how_many_neighbours,list_of_characters))\n",
    "\n",
    "counter = 0\n",
    "for el in list_of_classifed:\n",
    "    if int(el[0][0]) == int(el[1]):\n",
    "        counter+=1\n",
    "accuracy = counter/len(list_of_classifed)\n",
    "print(\"ilość dobrze oznaczonych: \"+counter.__str__())\n",
    "print(\"ilość wszystkich:\" +len(list_of_classifed).__str__())\n",
    "print(\"procent dokładności: \"+format(accuracy*100,'.2f').__str__()+\"%\")"
   ],
   "metadata": {
    "collapsed": false,
    "pycharm": {
     "name": "#%%\n"
    }
   }
  },
  {
   "cell_type": "markdown",
   "source": [
    "### Wnioski"
   ],
   "metadata": {
    "collapsed": false
   }
  },
  {
   "cell_type": "code",
   "execution_count": 3,
   "outputs": [],
   "source": [
    "# Im więcej sąsiadów rozpatrujemy tym lepiej sklasyfikowane będą próbki testowe ale czas wykonywania wzrośnie\n",
    "# Co do ilości cech to im więcej ich podamy tym drastyczniej wzrośnie czas wykonywania jednakże dokładność już\n",
    "# niekoniecznie, zbyt duża ilość cech po których wyszukujemy może powodować problemy z dopasowaniem dla programu"
   ],
   "metadata": {
    "collapsed": false,
    "pycharm": {
     "name": "#%%\n"
    }
   }
  },
  {
   "cell_type": "markdown",
   "source": [
    "### confusion matrix"
   ],
   "metadata": {
    "collapsed": false,
    "pycharm": {
     "name": "#%% md\n"
    }
   }
  },
  {
   "cell_type": "code",
   "execution_count": 8,
   "outputs": [
    {
     "data": {
      "text/plain": "<Figure size 432x288 with 2 Axes>",
      "image/png": "[encoded data removed]"
     },
     "metadata": {},
     "output_type": "display_data"
    }
   ],
   "source": [
    "confusion_list =[]\n",
    "confusion_train =[]\n",
    "for a in list_of_classifed:\n",
    "    temp = int(a[1])\n",
    "    confusion_list.append(temp)\n",
    "    temp1 = int(a[0][0])\n",
    "    confusion_train.append(temp1)\n",
    "\n",
    "from sklearn.metrics import confusion_matrix\n",
    "conf = confusion_matrix(confusion_train,confusion_list)\n",
    "import seaborn as sn\n",
    "import pandas as pd\n",
    "import matplotlib.pyplot as plt\n",
    "\n",
    "df_cm = pd.DataFrame(conf, range(np.shape(conf)[0]), range(np.shape(conf)[1]))\n",
    "sn.set(font_scale=1.4) # for label size\n",
    "sn.heatmap(df_cm, annot=True, annot_kws={\"size\": 16}) # font size\n",
    "plt.xlabel(\"train\")\n",
    "plt.ylabel(\"classified\")\n",
    "plt.show()"
   ],
   "metadata": {
    "collapsed": false,
    "pycharm": {
     "name": "#%%\n"
    }
   }
  },
  {
   "cell_type": "markdown",
   "source": [
    "### Inne metryki"
   ],
   "metadata": {
    "collapsed": false,
    "pycharm": {
     "name": "#%% md\n"
    }
   }
  },
  {
   "cell_type": "code",
   "execution_count": 5,
   "outputs": [
    {
     "name": "stdout",
     "output_type": "stream",
     "text": [
      "0.025974025974025983\n",
      "[0.98214286 0.94827586 0.90909091]\n"
     ]
    }
   ],
   "source": [
    "from sklearn.metrics import jaccard_score,zero_one_loss\n",
    "\n",
    "# zero one loss zwraca ułamek wskazujący stosunek źle sklasyfikowanych obiektów jest to prosta metryka ale przydatna\n",
    "zero_one_loss_result = zero_one_loss(confusion_train,confusion_list)\n",
    "print(zero_one_loss_result)\n",
    "\n",
    "# jaccard score zwraca rozmiar intersekcji obu zbiorów podzielony przez rozmiar ich unii\n",
    "score = jaccard_score(confusion_train,confusion_list ,average=None)\n",
    "print(score)\n"
   ],
   "metadata": {
    "collapsed": false,
    "pycharm": {
     "name": "#%%\n"
    }
   }
  },
  {
   "cell_type": "markdown",
   "source": [
    "### Różnica między kNN a NN"
   ],
   "metadata": {
    "collapsed": false,
    "pycharm": {
     "name": "#%% md\n"
    }
   }
  },
  {
   "cell_type": "code",
   "execution_count": 6,
   "outputs": [],
   "source": [
    "# Algrorytm NN różni się od kNN ilością branych pod uwagę próbek przy porównaniu klas, NN sprawdzi się w przypadkach\n",
    "# gdzie nie jest potrzebna najwyższa dokładność ale potrzebne są ograniczenia w obliczeniach\n",
    "# kNN przez to że jest bardziej wymagający obliczeniowo ale zarazem\n",
    "# dokładniejszy sprawdzi się w innych przypadkach,\n",
    "# jednakże podając jako k=1 otrzymamy z obu takie same wyniki\n"
   ],
   "metadata": {
    "collapsed": false,
    "pycharm": {
     "name": "#%%\n"
    }
   }
  },
  {
   "cell_type": "markdown",
   "source": [],
   "metadata": {
    "collapsed": false
   }
  }
 ],
 "metadata": {
  "author": {
   "emails": [
    "rsusik@kis.p.lodz.pl"
   ],
   "name": "Robert Susik"
  },
  "kernelspec": {
   "display_name": "Python 3",
   "language": "python",
   "name": "python3"
  },
  "language_info": {
   "codemirror_mode": {
    "name": "ipython",
    "version": 3
   },
   "file_extension": ".py",
   "mimetype": "text/x-python",
   "name": "python",
   "nbconvert_exporter": "python",
   "pygments_lexer": "ipython3",
   "version": "3.7.4"
  },
  "toc": {
   "base_numbering": 1,
   "nav_menu": {},
   "number_sections": true,
   "sideBar": true,
   "skip_h1_title": false,
   "title_cell": "Table of Contents",
   "title_sidebar": "Contents",
   "toc_cell": false,
   "toc_position": {},
   "toc_section_display": true,
   "toc_window_display": true
  }
 },
 "nbformat": 4,
 "nbformat_minor": 4
}